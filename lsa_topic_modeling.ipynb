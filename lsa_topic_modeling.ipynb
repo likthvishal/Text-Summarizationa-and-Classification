{
  "nbformat": 4,
  "nbformat_minor": 0,
  "metadata": {
    "colab": {
      "provenance": []
    },
    "kernelspec": {
      "name": "python3",
      "display_name": "Python 3"
    },
    "language_info": {
      "name": "python"
    }
  },
  "cells": [
    {
      "cell_type": "code",
      "source": [
        "from sklearn.decomposition import TruncatedSVD\n",
        "from sklearn.feature_extraction.text import TfidfVectorizer\n",
        "\n",
        "# Vectorize the summaries\n",
        "vectorizer = TfidfVectorizer(max_features=1000, stop_words='english')\n",
        "X = vectorizer.fit_transform(summaries)\n",
        "\n",
        "# Apply Latent Semantic Analysis (LSA)\n",
        "lsa = TruncatedSVD(n_components=5, random_state=42)\n",
        "lsa.fit(X)\n",
        "\n",
        "terms = vectorizer.get_feature_names_out()\n",
        "for i, component in enumerate(lsa.components_):\n",
        "    terms_in_topic = [terms[j] for j in component.argsort()[:-10 - 1:-1]]\n",
        "    print(f\"Topic {i+1}: {', '.join(terms_in_topic)}\")\n"
      ],
      "metadata": {
        "id": "wNkxFGkF2GZ0"
      },
      "execution_count": null,
      "outputs": []
    }
  ]
}