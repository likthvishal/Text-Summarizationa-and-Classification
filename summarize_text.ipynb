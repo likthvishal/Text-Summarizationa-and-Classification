{
  "nbformat": 4,
  "nbformat_minor": 0,
  "metadata": {
    "colab": {
      "provenance": []
    },
    "kernelspec": {
      "name": "python3",
      "display_name": "Python 3"
    },
    "language_info": {
      "name": "python"
    }
  },
  "cells": [
    {
      "cell_type": "code",
      "source": [
        "import nltk\n",
        "import gensim\n",
        "import pandas as pd\n",
        "from nltk.corpus import stopwords\n",
        "from sklearn.cluster import KMeans\n",
        "from sklearn.feature_extraction.text import TfidfVectorizer\n",
        "from gensim.summarization import summarize\n",
        "nltk.download('stopwords')\n",
        "\n",
        "# Load dataset\n",
        "df = pd.read_csv('news_articles.csv')\n",
        "texts = df['text'].tolist()\n",
        "\n",
        "# Preprocess text (lowercase, remove stopwords)\n",
        "def preprocess_text(text):\n",
        "    stop_words = set(stopwords.words('english'))\n",
        "    tokens = [word for word in nltk.word_tokenize(text.lower()) if word.isalnum() and word not in stop_words]\n",
        "    return ' '.join(tokens)\n",
        "\n",
        "preprocessed_texts = [preprocess_text(text) for text in texts]\n",
        "\n",
        "# Summarize text using TextRank algorithm\n",
        "def summarize_text(text):\n",
        "    return summarize(text, ratio=0.2)  # Extract top 20% sentences\n",
        "\n",
        "summaries = [summarize_text(text) for text in preprocessed_texts]\n",
        "\n",
        "# Apply K-Means Clustering to group sentences\n",
        "vectorizer = TfidfVectorizer()\n",
        "X = vectorizer.fit_transform(summaries)\n",
        "kmeans = KMeans(n_clusters=5, random_state=0).fit(X)\n",
        "clusters = kmeans.labels_\n",
        "\n",
        "# Display summaries and clusters\n",
        "for i, summary in enumerate(summaries):\n",
        "    print(f\"Article {i+1} Summary:\\n{summary}\\nCluster: {clusters[i]}\\n\")\n"
      ],
      "metadata": {
        "id": "wNkxFGkF2GZ0"
      },
      "execution_count": null,
      "outputs": []
    }
  ]
}